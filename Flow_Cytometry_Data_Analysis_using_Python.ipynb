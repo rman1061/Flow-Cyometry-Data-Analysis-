{
  "nbformat": 4,
  "nbformat_minor": 0,
  "metadata": {
    "colab": {
      "name": "Flow Cytometry Data Analysis using Python.ipynb",
      "provenance": []
    },
    "kernelspec": {
      "name": "python3",
      "display_name": "Python 3"
    },
    "language_info": {
      "name": "python"
    }
  },
  "cells": [
    {
      "cell_type": "code",
      "metadata": {
        "id": "QGeM827rTDD1",
        "colab": {
          "base_uri": "https://localhost:8080/"
        },
        "outputId": "2af37ae4-f339-4c5e-c3b5-eecb89bf28d9"
      },
      "source": [
        "pip install FlowCal"
      ],
      "execution_count": null,
      "outputs": [
        {
          "output_type": "stream",
          "text": [
            "Collecting FlowCal\n",
            "\u001b[?25l  Downloading https://files.pythonhosted.org/packages/66/b2/19d36b7a25a369b531c2c1d0371ca58707f0a16944ed9fb607c9fda804a8/FlowCal-1.3.0.tar.gz (82kB)\n",
            "\r\u001b[K     |████                            | 10kB 15.2MB/s eta 0:00:01\r\u001b[K     |████████                        | 20kB 21.2MB/s eta 0:00:01\r\u001b[K     |████████████                    | 30kB 12.8MB/s eta 0:00:01\r\u001b[K     |████████████████                | 40kB 10.8MB/s eta 0:00:01\r\u001b[K     |████████████████████            | 51kB 8.2MB/s eta 0:00:01\r\u001b[K     |████████████████████████        | 61kB 7.9MB/s eta 0:00:01\r\u001b[K     |███████████████████████████▉    | 71kB 8.4MB/s eta 0:00:01\r\u001b[K     |███████████████████████████████▉| 81kB 8.7MB/s eta 0:00:01\r\u001b[K     |████████████████████████████████| 92kB 4.8MB/s \n",
            "\u001b[?25hRequirement already satisfied: packaging>=16.8 in /usr/local/lib/python3.7/dist-packages (from FlowCal) (20.9)\n",
            "Requirement already satisfied: six>=1.10.0 in /usr/local/lib/python3.7/dist-packages (from FlowCal) (1.15.0)\n",
            "Requirement already satisfied: numpy>=1.9.0 in /usr/local/lib/python3.7/dist-packages (from FlowCal) (1.19.5)\n",
            "Requirement already satisfied: scipy>=0.19.0 in /usr/local/lib/python3.7/dist-packages (from FlowCal) (1.4.1)\n",
            "Requirement already satisfied: matplotlib>=2.0.0 in /usr/local/lib/python3.7/dist-packages (from FlowCal) (3.2.2)\n",
            "Requirement already satisfied: scikit-image>=0.10.0 in /usr/local/lib/python3.7/dist-packages (from FlowCal) (0.16.2)\n",
            "Requirement already satisfied: scikit-learn>=0.16.0 in /usr/local/lib/python3.7/dist-packages (from FlowCal) (0.22.2.post1)\n",
            "Requirement already satisfied: pandas>=0.23.0 in /usr/local/lib/python3.7/dist-packages (from FlowCal) (1.1.5)\n",
            "Requirement already satisfied: xlrd<2.0.0,>=0.9.2 in /usr/local/lib/python3.7/dist-packages (from FlowCal) (1.1.0)\n",
            "Requirement already satisfied: openpyxl>=2.2.0 in /usr/local/lib/python3.7/dist-packages (from FlowCal) (2.5.9)\n",
            "Requirement already satisfied: pyparsing>=2.0.2 in /usr/local/lib/python3.7/dist-packages (from packaging>=16.8->FlowCal) (2.4.7)\n",
            "Requirement already satisfied: cycler>=0.10 in /usr/local/lib/python3.7/dist-packages (from matplotlib>=2.0.0->FlowCal) (0.10.0)\n",
            "Requirement already satisfied: python-dateutil>=2.1 in /usr/local/lib/python3.7/dist-packages (from matplotlib>=2.0.0->FlowCal) (2.8.1)\n",
            "Requirement already satisfied: kiwisolver>=1.0.1 in /usr/local/lib/python3.7/dist-packages (from matplotlib>=2.0.0->FlowCal) (1.3.1)\n",
            "Requirement already satisfied: PyWavelets>=0.4.0 in /usr/local/lib/python3.7/dist-packages (from scikit-image>=0.10.0->FlowCal) (1.1.1)\n",
            "Requirement already satisfied: imageio>=2.3.0 in /usr/local/lib/python3.7/dist-packages (from scikit-image>=0.10.0->FlowCal) (2.4.1)\n",
            "Requirement already satisfied: networkx>=2.0 in /usr/local/lib/python3.7/dist-packages (from scikit-image>=0.10.0->FlowCal) (2.5)\n",
            "Requirement already satisfied: pillow>=4.3.0 in /usr/local/lib/python3.7/dist-packages (from scikit-image>=0.10.0->FlowCal) (7.0.0)\n",
            "Requirement already satisfied: joblib>=0.11 in /usr/local/lib/python3.7/dist-packages (from scikit-learn>=0.16.0->FlowCal) (1.0.1)\n",
            "Requirement already satisfied: pytz>=2017.2 in /usr/local/lib/python3.7/dist-packages (from pandas>=0.23.0->FlowCal) (2018.9)\n",
            "Requirement already satisfied: et-xmlfile in /usr/local/lib/python3.7/dist-packages (from openpyxl>=2.2.0->FlowCal) (1.0.1)\n",
            "Requirement already satisfied: jdcal in /usr/local/lib/python3.7/dist-packages (from openpyxl>=2.2.0->FlowCal) (1.4.1)\n",
            "Requirement already satisfied: decorator>=4.3.0 in /usr/local/lib/python3.7/dist-packages (from networkx>=2.0->scikit-image>=0.10.0->FlowCal) (4.4.2)\n",
            "Building wheels for collected packages: FlowCal\n",
            "  Building wheel for FlowCal (setup.py) ... \u001b[?25l\u001b[?25hdone\n",
            "  Created wheel for FlowCal: filename=FlowCal-1.3.0-cp37-none-any.whl size=84550 sha256=86d69901fd438800d0e051612c10f6c5796c04064affa48117b349fb3dc9723f\n",
            "  Stored in directory: /root/.cache/pip/wheels/84/2f/ec/66a6abb60373dccc3b06c7c14a940477980326701cd6817700\n",
            "Successfully built FlowCal\n",
            "Installing collected packages: FlowCal\n",
            "Successfully installed FlowCal-1.3.0\n"
          ],
          "name": "stdout"
        }
      ]
    },
    {
      "cell_type": "code",
      "metadata": {
        "id": "D5NWH5qiZ58T"
      },
      "source": [
        "import FlowCal\n",
        "s = FlowCal.io.FCSData('/content/EGFR_A1_A01_001 (1).fcs')"
      ],
      "execution_count": null,
      "outputs": []
    },
    {
      "cell_type": "markdown",
      "metadata": {
        "id": "SBXqwvXnbDfj"
      },
      "source": [
        "FCS files are standard files in which flow cytometry data is stored. Normally, one FCS file corresponds to one sample.\n",
        "\n",
        "The object FlowCal.io.FCSData allows a user to open an FCS file. The following instruction opens the file Data001.fcs from the FCFiles folder, loads the information into an FCSData object, and assigns it to a variable s."
      ]
    },
    {
      "cell_type": "markdown",
      "metadata": {
        "id": "STXYAo_CSZCU"
      },
      "source": [
        ""
      ]
    },
    {
      "cell_type": "code",
      "metadata": {
        "colab": {
          "base_uri": "https://localhost:8080/"
        },
        "id": "Gj5ykXEgaD39",
        "outputId": "cf14116e-8387-428d-b08f-88f4bf22120e"
      },
      "source": [
        "print (s.shape)"
      ],
      "execution_count": null,
      "outputs": [
        {
          "output_type": "stream",
          "text": [
            "(20000, 7)\n"
          ],
          "name": "stdout"
        }
      ]
    },
    {
      "cell_type": "code",
      "metadata": {
        "id": "RbFcdzm9aG2K"
      },
      "source": [
        "s_sub = s[:100]"
      ],
      "execution_count": null,
      "outputs": []
    },
    {
      "cell_type": "code",
      "metadata": {
        "colab": {
          "base_uri": "https://localhost:8080/"
        },
        "id": "OpXzGgUUaLSm",
        "outputId": "c8be19a7-64b3-42ae-8a84-79491765de34"
      },
      "source": [
        "print (s_sub.shape)"
      ],
      "execution_count": null,
      "outputs": [
        {
          "output_type": "stream",
          "text": [
            "(100, 7)\n"
          ],
          "name": "stdout"
        }
      ]
    },
    {
      "cell_type": "code",
      "metadata": {
        "id": "fgrN7tqWaXPQ"
      },
      "source": [
        "s_sub_ch = s[:, [3, 4, 5]]"
      ],
      "execution_count": null,
      "outputs": []
    },
    {
      "cell_type": "code",
      "metadata": {
        "colab": {
          "base_uri": "https://localhost:8080/"
        },
        "id": "Zoi4K5vZaeA6",
        "outputId": "55cf8bd3-8d1e-42cf-a50e-dbb2f9efc759"
      },
      "source": [
        "print (s_sub_ch.shape)"
      ],
      "execution_count": null,
      "outputs": [
        {
          "output_type": "stream",
          "text": [
            "(20000, 3)\n"
          ],
          "name": "stdout"
        }
      ]
    },
    {
      "cell_type": "code",
      "metadata": {
        "colab": {
          "base_uri": "https://localhost:8080/"
        },
        "id": "I5OsF2OKah4u",
        "outputId": "0119663c-2536-46f1-a9f7-b303be5e7f7e"
      },
      "source": [
        "print (s.channels)"
      ],
      "execution_count": null,
      "outputs": [
        {
          "output_type": "stream",
          "text": [
            "('FSC-A', 'SSC-A', 'PE-Texas Red-A', 'FITC-A', 'PE-A', 'APC-Cy7-A', 'Time')\n"
          ],
          "name": "stdout"
        }
      ]
    },
    {
      "cell_type": "code",
      "metadata": {
        "colab": {
          "base_uri": "https://localhost:8080/"
        },
        "id": "pcvg-bfNal6v",
        "outputId": "0ebe9aa1-4c4e-4835-dd64-087c003df8f1"
      },
      "source": [
        " print (s_sub_ch.channels)"
      ],
      "execution_count": null,
      "outputs": [
        {
          "output_type": "stream",
          "text": [
            "('FITC-A', 'PE-A', 'APC-Cy7-A')\n"
          ],
          "name": "stdout"
        }
      ]
    },
    {
      "cell_type": "code",
      "metadata": {
        "id": "WxTk9R1IapR9"
      },
      "source": [
        "s_sub_ch_2 = s[:, ['FITC-A', 'PE-A', 'APC-Cy7-A']]"
      ],
      "execution_count": null,
      "outputs": []
    },
    {
      "cell_type": "code",
      "metadata": {
        "colab": {
          "base_uri": "https://localhost:8080/"
        },
        "id": "YukU4pk9avpG",
        "outputId": "9e7875dc-ccbc-427a-c654-cef19121c26b"
      },
      "source": [
        "print (s_sub_ch_2.channels)"
      ],
      "execution_count": null,
      "outputs": [
        {
          "output_type": "stream",
          "text": [
            "('FITC-A', 'PE-A', 'APC-Cy7-A')\n"
          ],
          "name": "stdout"
        }
      ]
    },
    {
      "cell_type": "markdown",
      "metadata": {
        "id": "hL6W93tRa-aN"
      },
      "source": [
        "One of the most practical features of an FCSData object is the ability to slice channels using their name. For example, if we want the fluorescence channels we can use the following."
      ]
    },
    {
      "cell_type": "code",
      "metadata": {
        "colab": {
          "base_uri": "https://localhost:8080/"
        },
        "id": "55GzWLi9a0Su",
        "outputId": "6a24b828-89a0-4adf-ea31-a438a9b4b5d5"
      },
      "source": [
        "import numpy as np\n",
        "np.all(s_sub_ch == s_sub_ch_2)"
      ],
      "execution_count": null,
      "outputs": [
        {
          "output_type": "execute_result",
          "data": {
            "text/plain": [
              "True"
            ]
          },
          "metadata": {
            "tags": []
          },
          "execution_count": 31
        }
      ]
    },
    {
      "cell_type": "markdown",
      "metadata": {
        "id": "xI5TEWfRcJ1S"
      },
      "source": [
        "Transforming to Arbitrary Fluorescence Units (a.u.)\n"
      ]
    },
    {
      "cell_type": "markdown",
      "metadata": {
        "id": "tVtgB2wZcOvr"
      },
      "source": [
        "loading file Data001.fcs into an FCSData object called s."
      ]
    },
    {
      "cell_type": "code",
      "metadata": {
        "id": "8L3C0AYja50a"
      },
      "source": [
        "import FlowCal"
      ],
      "execution_count": null,
      "outputs": []
    },
    {
      "cell_type": "code",
      "metadata": {
        "id": "LCVzfZ9ibOLZ"
      },
      "source": [
        " s = FlowCal.io.FCSData('/content/EGFR_A1_A01_001 (1).fcs')"
      ],
      "execution_count": null,
      "outputs": []
    },
    {
      "cell_type": "code",
      "metadata": {
        "colab": {
          "base_uri": "https://localhost:8080/",
          "height": 265
        },
        "id": "WLuUsxh7bSQV",
        "outputId": "8c03621b-2f43-479e-e59b-d65e63b95cc3"
      },
      "source": [
        " import matplotlib.pyplot as plt\n",
        " plt.hist(s[:, 'FITC-A'], bins=100)\n",
        " plt.show()"
      ],
      "execution_count": null,
      "outputs": [
        {
          "output_type": "display_data",
          "data": {
            "image/png": "[encoded data removed]",
            "text/plain": [
              "<Figure size 432x288 with 1 Axes>"
            ]
          },
          "metadata": {
            "tags": [],
            "needs_background": "light"
          }
        }
      ]
    },
    {
      "cell_type": "markdown",
      "metadata": {
        "id": "Yvm-uBRffC8B"
      },
      "source": [
        "Fortunately, FlowCal includes FlowCal.transform.to_rfi(), a function that reads all the necessary paremeters from the FCS file and figures out how to convert data back to a.u."
      ]
    },
    {
      "cell_type": "code",
      "metadata": {
        "id": "up7Z3991bar-"
      },
      "source": [
        " s_transformed = FlowCal.transform.to_rfi(s, channels='FITC-A')"
      ],
      "execution_count": null,
      "outputs": []
    },
    {
      "cell_type": "markdown",
      "metadata": {
        "id": "rYoxt_6VfHyC"
      },
      "source": [
        "s_transformed now contains the same data as s, except that the FL1 channel has been transformed to a.u. Let’s now look at the transformed data.\n",
        "\n"
      ]
    },
    {
      "cell_type": "code",
      "metadata": {
        "colab": {
          "base_uri": "https://localhost:8080/",
          "height": 269
        },
        "id": "rzubEXxkbzUm",
        "outputId": "e33c4056-232e-4b2e-ae19-8c657523b683"
      },
      "source": [
        "import numpy as np\n",
        "bins = np.logspace(0, 4, 100)\n",
        "plt.hist(s_transformed[:, 'FITC-A'], bins=bins)\n",
        "plt.xscale('log')\n",
        "plt.show()"
      ],
      "execution_count": null,
      "outputs": [
        {
          "output_type": "display_data",
          "data": {
            "image/png": "[encoded data removed]",
            "text/plain": [
              "<Figure size 432x288 with 1 Axes>"
            ]
          },
          "metadata": {
            "tags": [],
            "needs_background": "light"
          }
        }
      ]
    },
    {
      "cell_type": "code",
      "metadata": {
        "id": "0lUiiWqmb9L0"
      },
      "source": [
        "s_transformed = FlowCal.transform.to_rfi(s)"
      ],
      "execution_count": null,
      "outputs": []
    },
    {
      "cell_type": "markdown",
      "metadata": {
        "id": "5o3bt40VfO6b"
      },
      "source": [
        "FlowCal.transform.to_rfi() can transform several channels at the same time. In fact, all channels will be transformed if no channel is specified.\n",
        "\n"
      ]
    },
    {
      "cell_type": "code",
      "metadata": {
        "id": "WnNz4HeZcBr2"
      },
      "source": [
        "import FlowCal"
      ],
      "execution_count": null,
      "outputs": []
    },
    {
      "cell_type": "code",
      "metadata": {
        "id": "AGPNQ58Cccw0"
      },
      "source": [
        "import matplotlib.pyplot as plt"
      ],
      "execution_count": null,
      "outputs": []
    },
    {
      "cell_type": "markdown",
      "metadata": {
        "id": "TovUv5cEfW2i"
      },
      "source": [
        "Let’s load the data from file EGFR_A1_A01.fcs into an FCSData object called s, and tranform all channels to arbitrary units.\n",
        "\n"
      ]
    },
    {
      "cell_type": "code",
      "metadata": {
        "id": "cNgJ9YoqckK7"
      },
      "source": [
        "s = FlowCal.io.FCSData('/content/EGFR_A1_A01_001 (1).fcs')"
      ],
      "execution_count": null,
      "outputs": []
    },
    {
      "cell_type": "code",
      "metadata": {
        "colab": {
          "base_uri": "https://localhost:8080/"
        },
        "id": "RwEPYo2Oc22l",
        "outputId": "94823ad7-17a3-46b8-cda4-58e83da4413b"
      },
      "source": [
        " print (s_sub_ch.channels)"
      ],
      "execution_count": null,
      "outputs": [
        {
          "output_type": "stream",
          "text": [
            "('FITC-A', 'PE-A', 'APC-Cy7-A')\n"
          ],
          "name": "stdout"
        }
      ]
    },
    {
      "cell_type": "code",
      "metadata": {
        "id": "bpb1ZhGneaZi"
      },
      "source": [
        "s = FlowCal.transform.to_rfi(s)"
      ],
      "execution_count": null,
      "outputs": []
    },
    {
      "cell_type": "markdown",
      "metadata": {
        "id": "1n9cQ6vkffcL"
      },
      "source": [
        "One is often interested in the fluorescence distribution across a population of cells. This is represented in a histogram. Since FCSData is a numpy array, one could use the standard hist function included in matplotlib. Alternatively, FlowCal includes its own histogram function specifically tailored to work with FCSData objects. For example, one can plot the contents of the FL1 channel with a single call to FlowCal.plot.hist1d().\n",
        "\n"
      ]
    },
    {
      "cell_type": "code",
      "metadata": {
        "colab": {
          "base_uri": "https://localhost:8080/",
          "height": 287
        },
        "id": "8fHlfuAkeciK",
        "outputId": "f898d94d-9b3a-406e-bb3e-605f11e91001"
      },
      "source": [
        "FlowCal.plot.hist1d(s, channel='FITC-A')"
      ],
      "execution_count": null,
      "outputs": [
        {
          "output_type": "display_data",
          "data": {
            "image/png": "[encoded data removed]",
            "text/plain": [
              "<Figure size 432x288 with 1 Axes>"
            ]
          },
          "metadata": {
            "tags": [],
            "needs_background": "light"
          }
        }
      ]
    },
    {
      "cell_type": "markdown",
      "metadata": {
        "id": "QLNuWb9pfmuu"
      },
      "source": [
        "By default, FlowCal.plot.hist1d() uses something called logicle scaling for the x axis. This scaling allows visualization of high fluorescence values with logarithmic spacing, and low fluorescence values with a more linear spacing. In some modern flow cytometers, negative events may be present, and logicle scaling allows visualization of those as well. This can be changed to a more conventional linear or logarithmic scale by using the xscale argument. In addition, FlowCal.plot.hist1d() uses 256 uniformly spaced bins by default. We can override the default bins using the bins argument. Let’s try using 1024 logarithmically-spaced bins.\n",
        "\n"
      ]
    },
    {
      "cell_type": "code",
      "metadata": {
        "colab": {
          "base_uri": "https://localhost:8080/",
          "height": 283
        },
        "id": "jIaH42zOdFTl",
        "outputId": "cae3c52a-c6b9-4e50-d515-bbabd6af0b29"
      },
      "source": [
        "FlowCal.plot.density2d(s, channels=['FITC-A', 'PE-A'])"
      ],
      "execution_count": null,
      "outputs": [
        {
          "output_type": "display_data",
          "data": {
            "image/png": "[encoded data removed]",
            "text/plain": [
              "<Figure size 432x288 with 1 Axes>"
            ]
          },
          "metadata": {
            "tags": [],
            "needs_background": "light"
          }
        }
      ]
    },
    {
      "cell_type": "markdown",
      "metadata": {
        "id": "4S8GjqkMftLK"
      },
      "source": [
        "It is also common to look at the forward scatter and side scatter values in a 2D histogram, scatter plot, or density diagram. From those, the user can extract size and shape information that would allow him to differentiate between cells and debris. FlowCal includes the function FlowCal.plot.density2d() for this purpose.\n",
        "\n"
      ]
    },
    {
      "cell_type": "markdown",
      "metadata": {
        "id": "yjeNue3Afz46"
      },
      "source": [
        "The color indicates the number of events in the region, with red indicating a bigger number than yellow and blue, in that order, by default. Similarly to FlowCal.plot.hist1d(), FlowCal.plot.density2d() uses logicle scaling by default. In addition, FlowCal.plot.density2d() applies, by default, gaussian smoothing to the density plot.\n",
        "\n"
      ]
    },
    {
      "cell_type": "code",
      "metadata": {
        "colab": {
          "base_uri": "https://localhost:8080/",
          "height": 283
        },
        "id": "HziSDaiedNqb",
        "outputId": "044f6921-aa18-443c-86a5-ff777116d04a"
      },
      "source": [
        "FlowCal.plot.density2d(s, channels=['FITC-A', 'PE-A'], mode='scatter')"
      ],
      "execution_count": null,
      "outputs": [
        {
          "output_type": "display_data",
          "data": {
            "image/png": "[encoded data removed]",
            "text/plain": [
              "<Figure size 432x288 with 1 Axes>"
            ]
          },
          "metadata": {
            "tags": [],
            "needs_background": "light"
          }
        }
      ]
    },
    {
      "cell_type": "markdown",
      "metadata": {
        "id": "xVKVuDp6gAd8"
      },
      "source": [
        "The last plot shows three distinct populations. The one in the middle corresponds to cells, whereas the ones at the left and below correspond to non-biological debris. W"
      ]
    },
    {
      "cell_type": "code",
      "metadata": {
        "id": "eNJtY-bugCZS"
      },
      "source": [
        "import FlowCal"
      ],
      "execution_count": null,
      "outputs": []
    },
    {
      "cell_type": "code",
      "metadata": {
        "id": "qTmhheUXgMuZ"
      },
      "source": [
        "s = FlowCal.io.FCSData('/content/EGFR_A1_A01_001 (1).fcs')\n",
        "s = FlowCal.transform.to_rfi(s)"
      ],
      "execution_count": null,
      "outputs": []
    },
    {
      "cell_type": "markdown",
      "metadata": {
        "id": "WLIAUklVhBdi"
      },
      "source": [
        ""
      ]
    },
    {
      "cell_type": "code",
      "metadata": {
        "colab": {
          "base_uri": "https://localhost:8080/",
          "height": 283
        },
        "id": "5E3ZMYwPgQpP",
        "outputId": "4c7b0e0d-abe1-4124-c425-e327958f3fa7"
      },
      "source": [
        "s_g1 = FlowCal.gate.high_low(s, channels=['PE-A'])\n",
        "FlowCal.plot.density2d(s_g1,\n",
        "                      channels=['FITC-A', 'PE-A'],\n",
        "                      mode='scatter')\n",
        "plt.show()"
      ],
      "execution_count": null,
      "outputs": [
        {
          "output_type": "display_data",
          "data": {
            "image/png": "[encoded data removed]",
            "text/plain": [
              "<Figure size 432x288 with 1 Axes>"
            ]
          },
          "metadata": {
            "tags": [],
            "needs_background": "light"
          }
        }
      ]
    },
    {
      "cell_type": "markdown",
      "metadata": {
        "id": "P1py9FHlhPuh"
      },
      "source": [
        "Some flow cytometers will capture events outside of their range and assign them either the lowest or highest possible values of a channel, depending on which side of the range they fall on. We call these events “saturated”. Including them in the analysis results, most of the time, in distorted distribution shapes and incorrect statistics. Therefore, it is generally advised to remove saturated events. To do so, FlowCal incorporates the function FlowCal.gate.high_low(). This function retains all the events in the specified channels between two specified values: a high and a low threshold. If these values are not specified, however, the function uses the saturating values."
      ]
    },
    {
      "cell_type": "code",
      "metadata": {
        "colab": {
          "base_uri": "https://localhost:8080/",
          "height": 283
        },
        "id": "3LOKAEL4gZ0J",
        "outputId": "1e6765e8-683b-4398-89bf-9db964380fdc"
      },
      "source": [
        "s_g2 = FlowCal.gate.high_low(s_g1, channels='PE-A', low=25)\n",
        "FlowCal.plot.density2d(s_g2,\n",
        "                        channels=['FITC-A', 'PE-A'],\n",
        "                        mode='scatter')\n",
        "plt.show()"
      ],
      "execution_count": null,
      "outputs": [
        {
          "output_type": "display_data",
          "data": {
            "image/png": "[encoded data removed]",
            "text/plain": [
              "<Figure size 432x288 with 1 Axes>"
            ]
          },
          "metadata": {
            "tags": [],
            "needs_background": "light"
          }
        }
      ]
    },
    {
      "cell_type": "code",
      "metadata": {
        "id": "4rG4HKOvg4jA"
      },
      "source": [
        ""
      ],
      "execution_count": null,
      "outputs": []
    }
  ]
}